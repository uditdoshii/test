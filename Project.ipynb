{
  "metadata": {
    "language_info": {
      "codemirror_mode": {
        "name": "python",
        "version": 3
      },
      "file_extension": ".py",
      "mimetype": "text/x-python",
      "name": "python",
      "nbconvert_exporter": "python",
      "pygments_lexer": "ipython3",
      "version": "3.8"
    },
    "kernelspec": {
      "name": "python",
      "display_name": "Python (Pyodide)",
      "language": "python"
    }
  },
  "nbformat_minor": 4,
  "nbformat": 4,
  "cells": [
    {
      "cell_type": "markdown",
      "source": "My Jupyter Notebook on IBM Watson studio\n",
      "metadata": {}
    },
    {
      "cell_type": "markdown",
      "source": "UDIT DOSHI\nI want to become a business analyst.",
      "metadata": {}
    },
    {
      "cell_type": "markdown",
      "source": "I am interested in data science because i want to work with data and make proper decisions on the basis of data management.",
      "metadata": {}
    },
    {
      "cell_type": "markdown",
      "source": "I am writing a code which adds 1 with 1.",
      "metadata": {}
    },
    {
      "cell_type": "code",
      "source": "1 + 1\n",
      "metadata": {
        "trusted": true
      },
      "execution_count": 2,
      "outputs": [
        {
          "execution_count": 2,
          "output_type": "execute_result",
          "data": {
            "text/plain": "2"
          },
          "metadata": {}
        }
      ]
    },
    {
      "cell_type": "markdown",
      "source": "list = [1,2,3,4,5,6]\n",
      "metadata": {}
    },
    {
      "cell_type": "code",
      "source": "",
      "metadata": {},
      "execution_count": null,
      "outputs": []
    }
  ]
}